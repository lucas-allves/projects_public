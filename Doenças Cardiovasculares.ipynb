{
 "cells": [
  {
   "cell_type": "markdown",
   "id": "8495fc4c",
   "metadata": {},
   "source": [
    "# Diagnóstico de Doenças Cardiovasculares\n",
    "\n",
    "Doença cardiovascular (DCV) é um termo genérico que designa todas as alterações patológicas que afetam o coração e/ou os vasos sanguíneos. No termo inclui-se a doença cardíaca coronária (doença que afeta os vasos sanguíneos que irrigam o coração), a hipertensão e a arteriosclerose. Um dos mais importantes fatores de risco de doença cardiovascular é a hipertensão (tensão arterial elevada).\n",
    "\n",
    "Diversos fatores de risco estão associados ao desenvolvimento de DCV, os quais podem ser modificáveis ou não modificáveis. Os fatores modificáveis incluem hiperlipidemia, tabagismo, etilismo, obesidade, sedentarismo, má alimentação, etc; já os não modificáveis incluem fatores hereditários, idade, sexo e raça.\n",
    "\n",
    "<center><img src=\"https://www.corporate.roche.pt/content/dam/rochexx/roche-pt/áreas-terapêuticas/imagens/Doenças%20cardiovasculares%20banners-8.png\"></center>\n",
    "\n",
    "### Uso de Machine Learning na Detecção de Doenças Cardiovasculares\n",
    "\n",
    "Nos dias atuais, a implementação de técnicas computacionais na área da saúde tem se tornado cada vez mais intensa, com destaque para algoritmos de aprendizado de máquina e redes neurais artificiais. Fazendo-se uso de modelos matemáticos, é possível afirmar ou negar, a partir de um conjunto de dados clínicos, o grau de influência de determinados sintomas no desenvolvimento ou aparecimento de doenças.\n",
    "\n",
    "Existem hoje várias pesquisas na área de Machine Learning visando a construção de modelos preditivos que ajudem os médicos a descobrirem doenças cardiovasculares em seus pacientes.\n",
    "\n",
    "Estudos publicados na revista Nature Biomedical Engineering mostram que algoritmos de Deep Learning foram capazes de antecipar doenças cardíacas em até 5 anos.\n",
    "\n",
    "Recentemente, cientistas da Google, em parceria com a Verily, usaram o Machine Learning para analisar um conjunto de dados com quase 300 mil pacientes, a fim de detectar doenças cardiovasculares analisando a parte de trás dos olhos. O algoritmo conseguiu 70% de acerto ao inferir quais pacientes haviam sofrido acidentes cardiovasculares, taxa essa apenas 2% menor em comparação aos métodos tradicionais que precisam de exames de sangue.\n",
    "\n",
    "\n"
   ]
  },
  {
   "cell_type": "markdown",
   "id": "e702ed1a",
   "metadata": {},
   "source": [
    "### Obtenção dos Dados\n",
    "\n",
    "O conjunto principal de dados usado neste projeto foi coletado da ***Cleveland Clinic Foundation*** e se encontra disponível no conhecido [Repositório UCI *Machine Learning*](https://archive.ics.uci.edu/ml/datasets/heart+Disease). \n",
    "\n",
    "Com citado anteriormente, o conjunto de dados processado foi obtido através do Repositório UCI Machine Learning, ele contém dados de 303 pessoas divididos em 14 atributos."
   ]
  },
  {
   "cell_type": "markdown",
   "id": "0bd82886",
   "metadata": {},
   "source": [
    "### Importar os Dados\n",
    "\n",
    "Em uma etapa inicial, importaremos o *dataset* associado ao estudo:\n",
    "\n",
    "* Dados relacionados às doenças cardiovasculares (303 pessoas e 14 atributos);"
   ]
  },
  {
   "cell_type": "code",
   "execution_count": 1,
   "id": "326e3578",
   "metadata": {},
   "outputs": [],
   "source": [
    "# importar as bibliotecas necessárias\n",
    "\n",
    "import pandas as pd\n",
    "import matplotlib.pyplot as plt\n",
    "import seaborn as sns\n",
    "import numpy as np"
   ]
  },
  {
   "cell_type": "code",
   "execution_count": 2,
   "id": "8b21c00a",
   "metadata": {},
   "outputs": [],
   "source": [
    "# url do dataset\n",
    "\n",
    "data_uci = \"heart_disease_uci.csv\"\n",
    "\n",
    "# importar dataset da UCI\n",
    "\n",
    "df = pd.read_csv(data_uci)"
   ]
  },
  {
   "cell_type": "markdown",
   "id": "fda8cbc7",
   "metadata": {},
   "source": [
    "### Informações sobre os atributos:\n",
    "\n",
    "Abaixo, podemos visualizar as cinco primeiras linhas do dataset utilizado (head). E como isso verificar as informações dos atributos.\n"
   ]
  },
  {
   "cell_type": "code",
   "execution_count": 3,
   "id": "3e23886f",
   "metadata": {},
   "outputs": [
    {
     "data": {
      "text/html": [
       "<div>\n",
       "<style scoped>\n",
       "    .dataframe tbody tr th:only-of-type {\n",
       "        vertical-align: middle;\n",
       "    }\n",
       "\n",
       "    .dataframe tbody tr th {\n",
       "        vertical-align: top;\n",
       "    }\n",
       "\n",
       "    .dataframe thead th {\n",
       "        text-align: right;\n",
       "    }\n",
       "</style>\n",
       "<table border=\"1\" class=\"dataframe\">\n",
       "  <thead>\n",
       "    <tr style=\"text-align: right;\">\n",
       "      <th></th>\n",
       "      <th>age</th>\n",
       "      <th>sex</th>\n",
       "      <th>cp</th>\n",
       "      <th>trestbps</th>\n",
       "      <th>chol</th>\n",
       "      <th>fbs</th>\n",
       "      <th>restecg</th>\n",
       "      <th>thalach</th>\n",
       "      <th>exang</th>\n",
       "      <th>oldpeak</th>\n",
       "      <th>slope</th>\n",
       "      <th>ca</th>\n",
       "      <th>thal</th>\n",
       "      <th>num</th>\n",
       "    </tr>\n",
       "  </thead>\n",
       "  <tbody>\n",
       "    <tr>\n",
       "      <th>0</th>\n",
       "      <td>63.0</td>\n",
       "      <td>1.0</td>\n",
       "      <td>1.0</td>\n",
       "      <td>145.0</td>\n",
       "      <td>233.0</td>\n",
       "      <td>1.0</td>\n",
       "      <td>2.0</td>\n",
       "      <td>150.0</td>\n",
       "      <td>0.0</td>\n",
       "      <td>2.3</td>\n",
       "      <td>3.0</td>\n",
       "      <td>0.0</td>\n",
       "      <td>6.0</td>\n",
       "      <td>0</td>\n",
       "    </tr>\n",
       "    <tr>\n",
       "      <th>1</th>\n",
       "      <td>67.0</td>\n",
       "      <td>1.0</td>\n",
       "      <td>4.0</td>\n",
       "      <td>160.0</td>\n",
       "      <td>286.0</td>\n",
       "      <td>0.0</td>\n",
       "      <td>2.0</td>\n",
       "      <td>108.0</td>\n",
       "      <td>1.0</td>\n",
       "      <td>1.5</td>\n",
       "      <td>2.0</td>\n",
       "      <td>3.0</td>\n",
       "      <td>3.0</td>\n",
       "      <td>2</td>\n",
       "    </tr>\n",
       "    <tr>\n",
       "      <th>2</th>\n",
       "      <td>67.0</td>\n",
       "      <td>1.0</td>\n",
       "      <td>4.0</td>\n",
       "      <td>120.0</td>\n",
       "      <td>229.0</td>\n",
       "      <td>0.0</td>\n",
       "      <td>2.0</td>\n",
       "      <td>129.0</td>\n",
       "      <td>1.0</td>\n",
       "      <td>2.6</td>\n",
       "      <td>2.0</td>\n",
       "      <td>2.0</td>\n",
       "      <td>7.0</td>\n",
       "      <td>1</td>\n",
       "    </tr>\n",
       "    <tr>\n",
       "      <th>3</th>\n",
       "      <td>37.0</td>\n",
       "      <td>1.0</td>\n",
       "      <td>3.0</td>\n",
       "      <td>130.0</td>\n",
       "      <td>250.0</td>\n",
       "      <td>0.0</td>\n",
       "      <td>0.0</td>\n",
       "      <td>187.0</td>\n",
       "      <td>0.0</td>\n",
       "      <td>3.5</td>\n",
       "      <td>3.0</td>\n",
       "      <td>0.0</td>\n",
       "      <td>3.0</td>\n",
       "      <td>0</td>\n",
       "    </tr>\n",
       "    <tr>\n",
       "      <th>4</th>\n",
       "      <td>41.0</td>\n",
       "      <td>0.0</td>\n",
       "      <td>2.0</td>\n",
       "      <td>130.0</td>\n",
       "      <td>204.0</td>\n",
       "      <td>0.0</td>\n",
       "      <td>2.0</td>\n",
       "      <td>172.0</td>\n",
       "      <td>0.0</td>\n",
       "      <td>1.4</td>\n",
       "      <td>1.0</td>\n",
       "      <td>0.0</td>\n",
       "      <td>3.0</td>\n",
       "      <td>0</td>\n",
       "    </tr>\n",
       "  </tbody>\n",
       "</table>\n",
       "</div>"
      ],
      "text/plain": [
       "    age  sex   cp  trestbps   chol  fbs  restecg  thalach  exang  oldpeak  \\\n",
       "0  63.0  1.0  1.0     145.0  233.0  1.0      2.0    150.0    0.0      2.3   \n",
       "1  67.0  1.0  4.0     160.0  286.0  0.0      2.0    108.0    1.0      1.5   \n",
       "2  67.0  1.0  4.0     120.0  229.0  0.0      2.0    129.0    1.0      2.6   \n",
       "3  37.0  1.0  3.0     130.0  250.0  0.0      0.0    187.0    0.0      3.5   \n",
       "4  41.0  0.0  2.0     130.0  204.0  0.0      2.0    172.0    0.0      1.4   \n",
       "\n",
       "   slope   ca  thal  num  \n",
       "0    3.0  0.0   6.0    0  \n",
       "1    2.0  3.0   3.0    2  \n",
       "2    2.0  2.0   7.0    1  \n",
       "3    3.0  0.0   3.0    0  \n",
       "4    1.0  0.0   3.0    0  "
      ]
     },
     "execution_count": 3,
     "metadata": {},
     "output_type": "execute_result"
    }
   ],
   "source": [
    "df.head()"
   ]
  },
  {
   "cell_type": "markdown",
   "id": "475138f8",
   "metadata": {},
   "source": [
    "* `age` - idade em anos\n",
    "* `sex` - sexo do paciente\n",
    "  * 0: mulher\n",
    "  * 1: homem\n",
    "* `cp` - tipo da dor torácica\n",
    "  * 1: angina típica\n",
    "  * 2: angina atípica\n",
    "  * 3: dor não cardíaca\n",
    "  * 4: assintomática\n",
    "* `trestbps` - pressão arterial em repouso\n",
    "* `chol` - colesterol sérico (*mg/dl*)\n",
    "* `fbs` - açucar no sangue em jejum > 120*mg/dl*\n",
    "  * 0: `False`\n",
    "  * 1: `True`\n",
    "* `restecg` - resultado do eletrocardiografia de repouso\n",
    "  * 0: normal\n",
    "  * 1: anormalidades de ST-T  (inversão da onda T e elevação ou depressão de > 0.05*mV*)\n",
    "  * 2: hipertrofia ventricular esquerda provável ou definitiva (pelos critérios de Romhilt-Estes)\n",
    "* `thalach` - frequência cardíaca máxima atingida\n",
    "* `exang` - angina induzida pelo exercício\n",
    "  * 0: não\n",
    "  * 1: sim\n",
    "* `oldpeak` - depessão do segmento ST induzida pelo exercício em relação ao repouso\n",
    "* `slope` - inclinação do segmento ST no pico do exercício\n",
    "* `ca` - número de vasos principais colorido por fluoroscopia\n",
    "* `thal` - *thallium stress test*\n",
    "  * 3: normal\n",
    "  * 6: defeito fixo\n",
    "  * 7: defeito reversível\n",
    "* `num` - diagnóstico de doença cardíaca (diagnóstico angiográfico)\n",
    "  * 0: não há doença cardíaca ( < 50% de estreitamento do diâmetro)\n",
    "  * 1,2,3,4: há doença cardíaca ( > 50% de estreitamento do diâmetro)"
   ]
  },
  {
   "cell_type": "markdown",
   "id": "489d7deb",
   "metadata": {},
   "source": [
    "Uma observação a ser considerada, olhando o atributo `num`, percebemos que os valores compreendidos entre 1-4 possui a mesma característica (há doença cardíaca). Desta forma iremos considerar apenas duas situações possíveis:\n",
    "\n",
    "* **0** - não há doença cardíaca\n",
    "* **1** - há doença cardíaca\n",
    "\n",
    "Então, iremos igualar a 1 os valores compreendidos entre 1-4."
   ]
  },
  {
   "cell_type": "code",
   "execution_count": 4,
   "id": "17b98a99",
   "metadata": {},
   "outputs": [
    {
     "data": {
      "text/plain": [
       "0    164\n",
       "1     55\n",
       "2     36\n",
       "3     35\n",
       "4     13\n",
       "Name: num, dtype: int64"
      ]
     },
     "execution_count": 4,
     "metadata": {},
     "output_type": "execute_result"
    }
   ],
   "source": [
    "# variável alvo antes\n",
    "\n",
    "df.num.value_counts()"
   ]
  },
  {
   "cell_type": "code",
   "execution_count": 5,
   "id": "ab28152e",
   "metadata": {},
   "outputs": [],
   "source": [
    "# converter valores >= 1 em 1\n",
    "\n",
    "df.loc[df.num != 0, 'num'] = 1"
   ]
  },
  {
   "cell_type": "code",
   "execution_count": 6,
   "id": "f9070bff",
   "metadata": {},
   "outputs": [
    {
     "data": {
      "text/plain": [
       "0    164\n",
       "1    139\n",
       "Name: num, dtype: int64"
      ]
     },
     "execution_count": 6,
     "metadata": {},
     "output_type": "execute_result"
    }
   ],
   "source": [
    "# variável alvo depois\n",
    "\n",
    "df.num.value_counts()"
   ]
  },
  {
   "cell_type": "markdown",
   "id": "c6dddc9b",
   "metadata": {},
   "source": [
    "### Análise Exploratória dos Dados\n",
    "\n",
    "**Tamanho do df (shape), os tipos de variáveis que estamos trabalhando (dtypes) e analisar se não apresenta dados ausentes (NAN).**\n"
   ]
  },
  {
   "cell_type": "code",
   "execution_count": 7,
   "id": "fecf0c37",
   "metadata": {},
   "outputs": [
    {
     "data": {
      "text/plain": [
       "(303, 14)"
      ]
     },
     "execution_count": 7,
     "metadata": {},
     "output_type": "execute_result"
    }
   ],
   "source": [
    "df.shape"
   ]
  },
  {
   "cell_type": "code",
   "execution_count": 8,
   "id": "0e8858eb",
   "metadata": {},
   "outputs": [
    {
     "name": "stdout",
     "output_type": "stream",
     "text": [
      "<class 'pandas.core.frame.DataFrame'>\n",
      "RangeIndex: 303 entries, 0 to 302\n",
      "Data columns (total 14 columns):\n",
      " #   Column    Non-Null Count  Dtype  \n",
      "---  ------    --------------  -----  \n",
      " 0   age       303 non-null    float64\n",
      " 1   sex       303 non-null    float64\n",
      " 2   cp        303 non-null    float64\n",
      " 3   trestbps  303 non-null    float64\n",
      " 4   chol      303 non-null    float64\n",
      " 5   fbs       303 non-null    float64\n",
      " 6   restecg   303 non-null    float64\n",
      " 7   thalach   303 non-null    float64\n",
      " 8   exang     303 non-null    float64\n",
      " 9   oldpeak   303 non-null    float64\n",
      " 10  slope     303 non-null    float64\n",
      " 11  ca        303 non-null    float64\n",
      " 12  thal      303 non-null    float64\n",
      " 13  num       303 non-null    int64  \n",
      "dtypes: float64(13), int64(1)\n",
      "memory usage: 33.3 KB\n"
     ]
    }
   ],
   "source": [
    "df.info()"
   ]
  },
  {
   "cell_type": "markdown",
   "id": "0b0e6337",
   "metadata": {},
   "source": [
    "Utilizando `df.shape` ou `df.info()` podemos ver 303 entradas e 14 colunas. De acordo com os dados não apresenta valores ausentes. Da coluna *0* á *12* são dados do tipo `float64` ou seja, números que apresentam casas decimais e a coluna *13* é do tipo `int64` ou seja, número inteiro."
   ]
  },
  {
   "cell_type": "code",
   "execution_count": 9,
   "id": "ec3e1a15",
   "metadata": {},
   "outputs": [
    {
     "data": {
      "text/plain": [
       "age         0\n",
       "sex         0\n",
       "cp          0\n",
       "trestbps    0\n",
       "chol        0\n",
       "fbs         0\n",
       "restecg     0\n",
       "thalach     0\n",
       "exang       0\n",
       "oldpeak     0\n",
       "slope       0\n",
       "ca          0\n",
       "thal        0\n",
       "num         0\n",
       "dtype: int64"
      ]
     },
     "execution_count": 9,
     "metadata": {},
     "output_type": "execute_result"
    }
   ],
   "source": [
    "# Valores ausentes\n",
    "\n",
    "df.isnull().sum()"
   ]
  },
  {
   "cell_type": "markdown",
   "id": "a18c29f9",
   "metadata": {},
   "source": [
    "Utilizando `df.isnull().sum()` podemos confirmar que todas as colunas não apresentam dados ausentes."
   ]
  },
  {
   "cell_type": "code",
   "execution_count": 10,
   "id": "9919f554",
   "metadata": {},
   "outputs": [
    {
     "data": {
      "text/plain": [
       "age         float64\n",
       "sex         float64\n",
       "cp          float64\n",
       "trestbps    float64\n",
       "chol        float64\n",
       "fbs         float64\n",
       "restecg     float64\n",
       "thalach     float64\n",
       "exang       float64\n",
       "oldpeak     float64\n",
       "slope       float64\n",
       "ca          float64\n",
       "thal        float64\n",
       "num           int64\n",
       "dtype: object"
      ]
     },
     "execution_count": 10,
     "metadata": {},
     "output_type": "execute_result"
    }
   ],
   "source": [
    "df.dtypes"
   ]
  },
  {
   "cell_type": "markdown",
   "id": "14235f5f",
   "metadata": {},
   "source": [
    "Da mesma forma, para confirmação do tipos de dados que estamos trabalhando, através do `df.types` podemos verificar esta informação."
   ]
  },
  {
   "cell_type": "markdown",
   "id": "c224d4ec",
   "metadata": {},
   "source": [
    "**Análise estatística geral do df (describe)**"
   ]
  },
  {
   "cell_type": "code",
   "execution_count": 11,
   "id": "86199e82",
   "metadata": {},
   "outputs": [
    {
     "data": {
      "text/html": [
       "<div>\n",
       "<style scoped>\n",
       "    .dataframe tbody tr th:only-of-type {\n",
       "        vertical-align: middle;\n",
       "    }\n",
       "\n",
       "    .dataframe tbody tr th {\n",
       "        vertical-align: top;\n",
       "    }\n",
       "\n",
       "    .dataframe thead th {\n",
       "        text-align: right;\n",
       "    }\n",
       "</style>\n",
       "<table border=\"1\" class=\"dataframe\">\n",
       "  <thead>\n",
       "    <tr style=\"text-align: right;\">\n",
       "      <th></th>\n",
       "      <th>age</th>\n",
       "      <th>sex</th>\n",
       "      <th>cp</th>\n",
       "      <th>trestbps</th>\n",
       "      <th>chol</th>\n",
       "      <th>fbs</th>\n",
       "      <th>restecg</th>\n",
       "      <th>thalach</th>\n",
       "      <th>exang</th>\n",
       "      <th>oldpeak</th>\n",
       "      <th>slope</th>\n",
       "      <th>ca</th>\n",
       "      <th>thal</th>\n",
       "      <th>num</th>\n",
       "    </tr>\n",
       "  </thead>\n",
       "  <tbody>\n",
       "    <tr>\n",
       "      <th>count</th>\n",
       "      <td>303.000000</td>\n",
       "      <td>303.000000</td>\n",
       "      <td>303.000000</td>\n",
       "      <td>303.000000</td>\n",
       "      <td>303.000000</td>\n",
       "      <td>303.000000</td>\n",
       "      <td>303.000000</td>\n",
       "      <td>303.000000</td>\n",
       "      <td>303.000000</td>\n",
       "      <td>303.000000</td>\n",
       "      <td>303.000000</td>\n",
       "      <td>303.000000</td>\n",
       "      <td>303.000000</td>\n",
       "      <td>303.000000</td>\n",
       "    </tr>\n",
       "    <tr>\n",
       "      <th>mean</th>\n",
       "      <td>54.438944</td>\n",
       "      <td>0.679868</td>\n",
       "      <td>3.158416</td>\n",
       "      <td>131.689769</td>\n",
       "      <td>246.693069</td>\n",
       "      <td>0.148515</td>\n",
       "      <td>0.990099</td>\n",
       "      <td>149.607261</td>\n",
       "      <td>0.326733</td>\n",
       "      <td>1.039604</td>\n",
       "      <td>1.600660</td>\n",
       "      <td>0.663366</td>\n",
       "      <td>4.722772</td>\n",
       "      <td>0.458746</td>\n",
       "    </tr>\n",
       "    <tr>\n",
       "      <th>std</th>\n",
       "      <td>9.038662</td>\n",
       "      <td>0.467299</td>\n",
       "      <td>0.960126</td>\n",
       "      <td>17.599748</td>\n",
       "      <td>51.776918</td>\n",
       "      <td>0.356198</td>\n",
       "      <td>0.994971</td>\n",
       "      <td>22.875003</td>\n",
       "      <td>0.469794</td>\n",
       "      <td>1.161075</td>\n",
       "      <td>0.616226</td>\n",
       "      <td>0.934375</td>\n",
       "      <td>1.938383</td>\n",
       "      <td>0.499120</td>\n",
       "    </tr>\n",
       "    <tr>\n",
       "      <th>min</th>\n",
       "      <td>29.000000</td>\n",
       "      <td>0.000000</td>\n",
       "      <td>1.000000</td>\n",
       "      <td>94.000000</td>\n",
       "      <td>126.000000</td>\n",
       "      <td>0.000000</td>\n",
       "      <td>0.000000</td>\n",
       "      <td>71.000000</td>\n",
       "      <td>0.000000</td>\n",
       "      <td>0.000000</td>\n",
       "      <td>1.000000</td>\n",
       "      <td>0.000000</td>\n",
       "      <td>3.000000</td>\n",
       "      <td>0.000000</td>\n",
       "    </tr>\n",
       "    <tr>\n",
       "      <th>25%</th>\n",
       "      <td>48.000000</td>\n",
       "      <td>0.000000</td>\n",
       "      <td>3.000000</td>\n",
       "      <td>120.000000</td>\n",
       "      <td>211.000000</td>\n",
       "      <td>0.000000</td>\n",
       "      <td>0.000000</td>\n",
       "      <td>133.500000</td>\n",
       "      <td>0.000000</td>\n",
       "      <td>0.000000</td>\n",
       "      <td>1.000000</td>\n",
       "      <td>0.000000</td>\n",
       "      <td>3.000000</td>\n",
       "      <td>0.000000</td>\n",
       "    </tr>\n",
       "    <tr>\n",
       "      <th>50%</th>\n",
       "      <td>56.000000</td>\n",
       "      <td>1.000000</td>\n",
       "      <td>3.000000</td>\n",
       "      <td>130.000000</td>\n",
       "      <td>241.000000</td>\n",
       "      <td>0.000000</td>\n",
       "      <td>1.000000</td>\n",
       "      <td>153.000000</td>\n",
       "      <td>0.000000</td>\n",
       "      <td>0.800000</td>\n",
       "      <td>2.000000</td>\n",
       "      <td>0.000000</td>\n",
       "      <td>3.000000</td>\n",
       "      <td>0.000000</td>\n",
       "    </tr>\n",
       "    <tr>\n",
       "      <th>75%</th>\n",
       "      <td>61.000000</td>\n",
       "      <td>1.000000</td>\n",
       "      <td>4.000000</td>\n",
       "      <td>140.000000</td>\n",
       "      <td>275.000000</td>\n",
       "      <td>0.000000</td>\n",
       "      <td>2.000000</td>\n",
       "      <td>166.000000</td>\n",
       "      <td>1.000000</td>\n",
       "      <td>1.600000</td>\n",
       "      <td>2.000000</td>\n",
       "      <td>1.000000</td>\n",
       "      <td>7.000000</td>\n",
       "      <td>1.000000</td>\n",
       "    </tr>\n",
       "    <tr>\n",
       "      <th>max</th>\n",
       "      <td>77.000000</td>\n",
       "      <td>1.000000</td>\n",
       "      <td>4.000000</td>\n",
       "      <td>200.000000</td>\n",
       "      <td>564.000000</td>\n",
       "      <td>1.000000</td>\n",
       "      <td>2.000000</td>\n",
       "      <td>202.000000</td>\n",
       "      <td>1.000000</td>\n",
       "      <td>6.200000</td>\n",
       "      <td>3.000000</td>\n",
       "      <td>3.000000</td>\n",
       "      <td>7.000000</td>\n",
       "      <td>1.000000</td>\n",
       "    </tr>\n",
       "  </tbody>\n",
       "</table>\n",
       "</div>"
      ],
      "text/plain": [
       "              age         sex          cp    trestbps        chol         fbs  \\\n",
       "count  303.000000  303.000000  303.000000  303.000000  303.000000  303.000000   \n",
       "mean    54.438944    0.679868    3.158416  131.689769  246.693069    0.148515   \n",
       "std      9.038662    0.467299    0.960126   17.599748   51.776918    0.356198   \n",
       "min     29.000000    0.000000    1.000000   94.000000  126.000000    0.000000   \n",
       "25%     48.000000    0.000000    3.000000  120.000000  211.000000    0.000000   \n",
       "50%     56.000000    1.000000    3.000000  130.000000  241.000000    0.000000   \n",
       "75%     61.000000    1.000000    4.000000  140.000000  275.000000    0.000000   \n",
       "max     77.000000    1.000000    4.000000  200.000000  564.000000    1.000000   \n",
       "\n",
       "          restecg     thalach       exang     oldpeak       slope          ca  \\\n",
       "count  303.000000  303.000000  303.000000  303.000000  303.000000  303.000000   \n",
       "mean     0.990099  149.607261    0.326733    1.039604    1.600660    0.663366   \n",
       "std      0.994971   22.875003    0.469794    1.161075    0.616226    0.934375   \n",
       "min      0.000000   71.000000    0.000000    0.000000    1.000000    0.000000   \n",
       "25%      0.000000  133.500000    0.000000    0.000000    1.000000    0.000000   \n",
       "50%      1.000000  153.000000    0.000000    0.800000    2.000000    0.000000   \n",
       "75%      2.000000  166.000000    1.000000    1.600000    2.000000    1.000000   \n",
       "max      2.000000  202.000000    1.000000    6.200000    3.000000    3.000000   \n",
       "\n",
       "             thal         num  \n",
       "count  303.000000  303.000000  \n",
       "mean     4.722772    0.458746  \n",
       "std      1.938383    0.499120  \n",
       "min      3.000000    0.000000  \n",
       "25%      3.000000    0.000000  \n",
       "50%      3.000000    0.000000  \n",
       "75%      7.000000    1.000000  \n",
       "max      7.000000    1.000000  "
      ]
     },
     "execution_count": 11,
     "metadata": {},
     "output_type": "execute_result"
    }
   ],
   "source": [
    "df.describe()"
   ]
  },
  {
   "cell_type": "markdown",
   "id": "bfdc369f",
   "metadata": {},
   "source": [
    "**Quantificação dos valores \"não há doença cardíaca\" (0) e \"há doença cardíaca\" (1) existem no *dataset* (value_counts)**\n"
   ]
  },
  {
   "cell_type": "code",
   "execution_count": 12,
   "id": "6de70f83",
   "metadata": {},
   "outputs": [
    {
     "data": {
      "text/plain": [
       "num\n",
       "0      164\n",
       "1      139\n",
       "dtype: int64"
      ]
     },
     "execution_count": 12,
     "metadata": {},
     "output_type": "execute_result"
    }
   ],
   "source": [
    "df.value_counts(['num'])"
   ]
  },
  {
   "cell_type": "markdown",
   "id": "962374da",
   "metadata": {},
   "source": [
    "## Utilizando Machine Learning na previsão de Doenças Cardiovasculares\n",
    "\n",
    "Para iniciar, precisamos dividir o DataFrame em *Features* que corresponde da coluna 0 `age` até a coluna 12 `thal` e *Target* que corresponde a coluna `num`. Para isso criamos duas variáveis X e y. "
   ]
  },
  {
   "cell_type": "code",
   "execution_count": 13,
   "id": "542fbf3e",
   "metadata": {},
   "outputs": [],
   "source": [
    "X = df.drop(columns='num', axis=1)\n",
    "y = df['num']"
   ]
  },
  {
   "cell_type": "code",
   "execution_count": 15,
   "id": "f29793e0",
   "metadata": {},
   "outputs": [
    {
     "data": {
      "text/html": [
       "<div>\n",
       "<style scoped>\n",
       "    .dataframe tbody tr th:only-of-type {\n",
       "        vertical-align: middle;\n",
       "    }\n",
       "\n",
       "    .dataframe tbody tr th {\n",
       "        vertical-align: top;\n",
       "    }\n",
       "\n",
       "    .dataframe thead th {\n",
       "        text-align: right;\n",
       "    }\n",
       "</style>\n",
       "<table border=\"1\" class=\"dataframe\">\n",
       "  <thead>\n",
       "    <tr style=\"text-align: right;\">\n",
       "      <th></th>\n",
       "      <th>age</th>\n",
       "      <th>sex</th>\n",
       "      <th>cp</th>\n",
       "      <th>trestbps</th>\n",
       "      <th>chol</th>\n",
       "      <th>fbs</th>\n",
       "      <th>restecg</th>\n",
       "      <th>thalach</th>\n",
       "      <th>exang</th>\n",
       "      <th>oldpeak</th>\n",
       "      <th>slope</th>\n",
       "      <th>ca</th>\n",
       "      <th>thal</th>\n",
       "    </tr>\n",
       "  </thead>\n",
       "  <tbody>\n",
       "    <tr>\n",
       "      <th>0</th>\n",
       "      <td>63.0</td>\n",
       "      <td>1.0</td>\n",
       "      <td>1.0</td>\n",
       "      <td>145.0</td>\n",
       "      <td>233.0</td>\n",
       "      <td>1.0</td>\n",
       "      <td>2.0</td>\n",
       "      <td>150.0</td>\n",
       "      <td>0.0</td>\n",
       "      <td>2.3</td>\n",
       "      <td>3.0</td>\n",
       "      <td>0.0</td>\n",
       "      <td>6.0</td>\n",
       "    </tr>\n",
       "    <tr>\n",
       "      <th>1</th>\n",
       "      <td>67.0</td>\n",
       "      <td>1.0</td>\n",
       "      <td>4.0</td>\n",
       "      <td>160.0</td>\n",
       "      <td>286.0</td>\n",
       "      <td>0.0</td>\n",
       "      <td>2.0</td>\n",
       "      <td>108.0</td>\n",
       "      <td>1.0</td>\n",
       "      <td>1.5</td>\n",
       "      <td>2.0</td>\n",
       "      <td>3.0</td>\n",
       "      <td>3.0</td>\n",
       "    </tr>\n",
       "    <tr>\n",
       "      <th>2</th>\n",
       "      <td>67.0</td>\n",
       "      <td>1.0</td>\n",
       "      <td>4.0</td>\n",
       "      <td>120.0</td>\n",
       "      <td>229.0</td>\n",
       "      <td>0.0</td>\n",
       "      <td>2.0</td>\n",
       "      <td>129.0</td>\n",
       "      <td>1.0</td>\n",
       "      <td>2.6</td>\n",
       "      <td>2.0</td>\n",
       "      <td>2.0</td>\n",
       "      <td>7.0</td>\n",
       "    </tr>\n",
       "    <tr>\n",
       "      <th>3</th>\n",
       "      <td>37.0</td>\n",
       "      <td>1.0</td>\n",
       "      <td>3.0</td>\n",
       "      <td>130.0</td>\n",
       "      <td>250.0</td>\n",
       "      <td>0.0</td>\n",
       "      <td>0.0</td>\n",
       "      <td>187.0</td>\n",
       "      <td>0.0</td>\n",
       "      <td>3.5</td>\n",
       "      <td>3.0</td>\n",
       "      <td>0.0</td>\n",
       "      <td>3.0</td>\n",
       "    </tr>\n",
       "    <tr>\n",
       "      <th>4</th>\n",
       "      <td>41.0</td>\n",
       "      <td>0.0</td>\n",
       "      <td>2.0</td>\n",
       "      <td>130.0</td>\n",
       "      <td>204.0</td>\n",
       "      <td>0.0</td>\n",
       "      <td>2.0</td>\n",
       "      <td>172.0</td>\n",
       "      <td>0.0</td>\n",
       "      <td>1.4</td>\n",
       "      <td>1.0</td>\n",
       "      <td>0.0</td>\n",
       "      <td>3.0</td>\n",
       "    </tr>\n",
       "    <tr>\n",
       "      <th>...</th>\n",
       "      <td>...</td>\n",
       "      <td>...</td>\n",
       "      <td>...</td>\n",
       "      <td>...</td>\n",
       "      <td>...</td>\n",
       "      <td>...</td>\n",
       "      <td>...</td>\n",
       "      <td>...</td>\n",
       "      <td>...</td>\n",
       "      <td>...</td>\n",
       "      <td>...</td>\n",
       "      <td>...</td>\n",
       "      <td>...</td>\n",
       "    </tr>\n",
       "    <tr>\n",
       "      <th>298</th>\n",
       "      <td>45.0</td>\n",
       "      <td>1.0</td>\n",
       "      <td>1.0</td>\n",
       "      <td>110.0</td>\n",
       "      <td>264.0</td>\n",
       "      <td>0.0</td>\n",
       "      <td>0.0</td>\n",
       "      <td>132.0</td>\n",
       "      <td>0.0</td>\n",
       "      <td>1.2</td>\n",
       "      <td>2.0</td>\n",
       "      <td>0.0</td>\n",
       "      <td>7.0</td>\n",
       "    </tr>\n",
       "    <tr>\n",
       "      <th>299</th>\n",
       "      <td>68.0</td>\n",
       "      <td>1.0</td>\n",
       "      <td>4.0</td>\n",
       "      <td>144.0</td>\n",
       "      <td>193.0</td>\n",
       "      <td>1.0</td>\n",
       "      <td>0.0</td>\n",
       "      <td>141.0</td>\n",
       "      <td>0.0</td>\n",
       "      <td>3.4</td>\n",
       "      <td>2.0</td>\n",
       "      <td>2.0</td>\n",
       "      <td>7.0</td>\n",
       "    </tr>\n",
       "    <tr>\n",
       "      <th>300</th>\n",
       "      <td>57.0</td>\n",
       "      <td>1.0</td>\n",
       "      <td>4.0</td>\n",
       "      <td>130.0</td>\n",
       "      <td>131.0</td>\n",
       "      <td>0.0</td>\n",
       "      <td>0.0</td>\n",
       "      <td>115.0</td>\n",
       "      <td>1.0</td>\n",
       "      <td>1.2</td>\n",
       "      <td>2.0</td>\n",
       "      <td>1.0</td>\n",
       "      <td>7.0</td>\n",
       "    </tr>\n",
       "    <tr>\n",
       "      <th>301</th>\n",
       "      <td>57.0</td>\n",
       "      <td>0.0</td>\n",
       "      <td>2.0</td>\n",
       "      <td>130.0</td>\n",
       "      <td>236.0</td>\n",
       "      <td>0.0</td>\n",
       "      <td>2.0</td>\n",
       "      <td>174.0</td>\n",
       "      <td>0.0</td>\n",
       "      <td>0.0</td>\n",
       "      <td>2.0</td>\n",
       "      <td>1.0</td>\n",
       "      <td>3.0</td>\n",
       "    </tr>\n",
       "    <tr>\n",
       "      <th>302</th>\n",
       "      <td>38.0</td>\n",
       "      <td>1.0</td>\n",
       "      <td>3.0</td>\n",
       "      <td>138.0</td>\n",
       "      <td>175.0</td>\n",
       "      <td>0.0</td>\n",
       "      <td>0.0</td>\n",
       "      <td>173.0</td>\n",
       "      <td>0.0</td>\n",
       "      <td>0.0</td>\n",
       "      <td>1.0</td>\n",
       "      <td>0.0</td>\n",
       "      <td>3.0</td>\n",
       "    </tr>\n",
       "  </tbody>\n",
       "</table>\n",
       "<p>303 rows × 13 columns</p>\n",
       "</div>"
      ],
      "text/plain": [
       "      age  sex   cp  trestbps   chol  fbs  restecg  thalach  exang  oldpeak  \\\n",
       "0    63.0  1.0  1.0     145.0  233.0  1.0      2.0    150.0    0.0      2.3   \n",
       "1    67.0  1.0  4.0     160.0  286.0  0.0      2.0    108.0    1.0      1.5   \n",
       "2    67.0  1.0  4.0     120.0  229.0  0.0      2.0    129.0    1.0      2.6   \n",
       "3    37.0  1.0  3.0     130.0  250.0  0.0      0.0    187.0    0.0      3.5   \n",
       "4    41.0  0.0  2.0     130.0  204.0  0.0      2.0    172.0    0.0      1.4   \n",
       "..    ...  ...  ...       ...    ...  ...      ...      ...    ...      ...   \n",
       "298  45.0  1.0  1.0     110.0  264.0  0.0      0.0    132.0    0.0      1.2   \n",
       "299  68.0  1.0  4.0     144.0  193.0  1.0      0.0    141.0    0.0      3.4   \n",
       "300  57.0  1.0  4.0     130.0  131.0  0.0      0.0    115.0    1.0      1.2   \n",
       "301  57.0  0.0  2.0     130.0  236.0  0.0      2.0    174.0    0.0      0.0   \n",
       "302  38.0  1.0  3.0     138.0  175.0  0.0      0.0    173.0    0.0      0.0   \n",
       "\n",
       "     slope   ca  thal  \n",
       "0      3.0  0.0   6.0  \n",
       "1      2.0  3.0   3.0  \n",
       "2      2.0  2.0   7.0  \n",
       "3      3.0  0.0   3.0  \n",
       "4      1.0  0.0   3.0  \n",
       "..     ...  ...   ...  \n",
       "298    2.0  0.0   7.0  \n",
       "299    2.0  2.0   7.0  \n",
       "300    2.0  1.0   7.0  \n",
       "301    2.0  1.0   3.0  \n",
       "302    1.0  0.0   3.0  \n",
       "\n",
       "[303 rows x 13 columns]"
      ]
     },
     "metadata": {},
     "output_type": "display_data"
    }
   ],
   "source": [
    "# DataFrame contendo somente as colunas features no qual servirá para prever doença cardiovasculares.\n",
    "display(X)"
   ]
  },
  {
   "cell_type": "code",
   "execution_count": 16,
   "id": "107dcc1e",
   "metadata": {},
   "outputs": [
    {
     "data": {
      "text/plain": [
       "0      0\n",
       "1      1\n",
       "2      1\n",
       "3      0\n",
       "4      0\n",
       "      ..\n",
       "298    1\n",
       "299    1\n",
       "300    1\n",
       "301    1\n",
       "302    0\n",
       "Name: num, Length: 303, dtype: int64"
      ]
     },
     "metadata": {},
     "output_type": "display_data"
    }
   ],
   "source": [
    "# Dataframe contendo a varíavel target no qual servirá de comparação para a previsão.\n",
    "display(y)"
   ]
  },
  {
   "cell_type": "code",
   "execution_count": 17,
   "id": "830fd4f4",
   "metadata": {},
   "outputs": [],
   "source": [
    "# importar as bibliotecas necessárias para aplicação do modelo de Machine Learning\n",
    "\n",
    "from sklearn.model_selection import train_test_split\n",
    "from sklearn.linear_model import LogisticRegression\n",
    "from sklearn.metrics import accuracy_score"
   ]
  },
  {
   "cell_type": "markdown",
   "id": "d05c5c32",
   "metadata": {},
   "source": [
    "**Dados de treino e teste**\n",
    "\n",
    "Quando separamos uma base de dados para modelagem, o primeiro passo é a divisão da base em *treino* e *teste*."
   ]
  },
  {
   "cell_type": "code",
   "execution_count": 18,
   "id": "20c41caa",
   "metadata": {},
   "outputs": [],
   "source": [
    "# Dividindo os dados: Training data & Test data\n",
    "\n",
    "X_train, X_test, y_train, y_test = train_test_split(X, y, test_size=0.2, stratify=y, random_state=2)"
   ]
  },
  {
   "cell_type": "code",
   "execution_count": 25,
   "id": "d5198750",
   "metadata": {},
   "outputs": [
    {
     "name": "stdout",
     "output_type": "stream",
     "text": [
      "Total (100%): (303, 13) \n",
      "Treino (80%): (242, 13) \n",
      "Teste (20%): (61, 13)\n"
     ]
    }
   ],
   "source": [
    "# Visualizando quantidade de dados da divisão train_test\n",
    "print(f'Total (100%): {X.shape} \\nTreino (80%): {X_train.shape} \\nTeste (20%): {X_test.shape}')"
   ]
  },
  {
   "cell_type": "markdown",
   "id": "8e1b4570",
   "metadata": {},
   "source": [
    "**Modelo de Machine Learning**\n",
    "\n",
    "Algoritmos de classificação, são análises supervisionada e referem-se a situações onde a variável-alvo é dividida em classes.\n",
    "\n",
    "A regressão logística é uma técnica estatística que tem como objetivo produzir, a partir de um conjunto de observações, um modelo que permita a predição de valores tomados por uma variável categórica, frequentemente binária, a partir de uma série de variáveis explicativas contínuas e/ou binárias.\n",
    "\n",
    "Variável categórica: 0 --> não ter doença cardiovascular e 1 --> ter doença cardiovascular"
   ]
  },
  {
   "cell_type": "code",
   "execution_count": 26,
   "id": "755c6baa",
   "metadata": {},
   "outputs": [],
   "source": [
    "# Logistic Regression\n",
    "\n",
    "model = LogisticRegression()"
   ]
  },
  {
   "cell_type": "code",
   "execution_count": 27,
   "id": "fbe7fba8",
   "metadata": {},
   "outputs": [
    {
     "name": "stderr",
     "output_type": "stream",
     "text": [
      "C:\\Users\\Lucas Alves\\anaconda3\\lib\\site-packages\\sklearn\\linear_model\\_logistic.py:763: ConvergenceWarning: lbfgs failed to converge (status=1):\n",
      "STOP: TOTAL NO. of ITERATIONS REACHED LIMIT.\n",
      "\n",
      "Increase the number of iterations (max_iter) or scale the data as shown in:\n",
      "    https://scikit-learn.org/stable/modules/preprocessing.html\n",
      "Please also refer to the documentation for alternative solver options:\n",
      "    https://scikit-learn.org/stable/modules/linear_model.html#logistic-regression\n",
      "  n_iter_i = _check_optimize_result(\n"
     ]
    },
    {
     "data": {
      "text/plain": [
       "LogisticRegression()"
      ]
     },
     "execution_count": 27,
     "metadata": {},
     "output_type": "execute_result"
    }
   ],
   "source": [
    "# Treinando o modelo de regressão logística com os dados de treinamento\n",
    "\n",
    "model.fit(X_train, y_train)"
   ]
  },
  {
   "cell_type": "markdown",
   "id": "4122e361",
   "metadata": {},
   "source": [
    "Obs.: é importante que tenhamos dados suficientes para treinar o modelo.\n",
    "\n",
    "\n",
    "**Avaliação do modelo**\n",
    "\n",
    "Acurácia mede a porcentagem geral de acertos do mo\u0002delo, independente da classe que foi previsto, no caso de uma\n",
    "classificação binária pode ser sim ou não. Neste caso, o valor previsto será comparado com os valores originais, "
   ]
  },
  {
   "cell_type": "code",
   "execution_count": 36,
   "id": "fa434d76",
   "metadata": {},
   "outputs": [],
   "source": [
    "# Avaliação do modelo (accuracy on training data)\n",
    "\n",
    "X_train_prediction = model.predict(X_train)\n",
    "training_data_accuracy = accuracy_score(X_train_prediction, y_train)"
   ]
  },
  {
   "cell_type": "code",
   "execution_count": 37,
   "id": "39c86a92",
   "metadata": {},
   "outputs": [
    {
     "name": "stdout",
     "output_type": "stream",
     "text": [
      "Acurácia dos dados de treino: 85.54%\n"
     ]
    }
   ],
   "source": [
    "print(f'Acurácia dos dados de treino: {training_data_accuracy*100:.2f}%')"
   ]
  },
  {
   "cell_type": "code",
   "execution_count": 38,
   "id": "c976da6a",
   "metadata": {},
   "outputs": [],
   "source": [
    "# Avaliação do modelo (accuracy on test data)\n",
    "\n",
    "X_test_prediction = model.predict(X_test)\n",
    "test_data_accuracy = accuracy_score(X_test_prediction, y_test)"
   ]
  },
  {
   "cell_type": "code",
   "execution_count": 39,
   "id": "eb0b5472",
   "metadata": {},
   "outputs": [
    {
     "name": "stdout",
     "output_type": "stream",
     "text": [
      "Acurácia dos dados de teste: 83.61%\n"
     ]
    }
   ],
   "source": [
    "print(f'Acurácia dos dados de teste: {test_data_accuracy*100:.2f}%')"
   ]
  },
  {
   "cell_type": "markdown",
   "id": "df965b56",
   "metadata": {},
   "source": [
    "**Construção de um modelo preditivo**\n",
    "\n",
    "Para a previsão de ter ou não doença Cardiovascular, através de uma variável `dados de entrada` colocamos todas as *features* para que o modelo treinado faça a verificação."
   ]
  },
  {
   "cell_type": "code",
   "execution_count": 46,
   "id": "fb6cb004",
   "metadata": {},
   "outputs": [
    {
     "name": "stdout",
     "output_type": "stream",
     "text": [
      "A pessoa não têm doença Cardiovascular.\n"
     ]
    }
   ],
   "source": [
    "dado_entrada = (58.0,1.0,2.0,120.0,284.0,0.0,2.0,160.0,0.0,1.8,2.0,0.0,3.0,)\n",
    "\n",
    "# Alterando os dados de entrada para formato numpy_array\n",
    "\n",
    "dado_entrada_np = np.asarray(dado_entrada)\n",
    "\n",
    "# Remodelando numpy_array, importante para que o modelo consiga prever as features de apenas um dado.\n",
    "\n",
    "dado_entrada_np_r = dado_entrada_np.reshape(1,-1)\n",
    "\n",
    "prediction = model.predict(dado_entrada_np_r)\n",
    "\n",
    "if prediction[0] == 0:\n",
    "    print(\"A pessoa não têm doença Cardiovascular.\")\n",
    "else:\n",
    "    print(\"A pessoa têm doença Cardiovascular.\")"
   ]
  },
  {
   "cell_type": "markdown",
   "id": "e319552e",
   "metadata": {},
   "source": [
    "### Conclusão"
   ]
  },
  {
   "cell_type": "markdown",
   "id": "595a93a8",
   "metadata": {},
   "source": [
    "De acordo com os estudos apresentados, existem algumas características fisiológicas com que a pessoa adquira problemas cardiovasculares. \n",
    "\n",
    "Inicialmente utilizando pacotes do `pandas`. Ele é quem determina funções para trabalhar com base de dados. Para importar a base para o projeto, fazer uma análise exploratória, conhecer a base de dados, feature engineering, etc. Ou seja, é um pacote muito robusto e o mais utilizado em Data Science.\n",
    "\n",
    "Em um segundo momento do projeto, buscamos treinar um modelo para que utilizando estas informações como *features* faça uma previsão para os próximos dados inseridos. E de acordo com a acurácia: dados de treino: 85.54% e dados de teste: 83.61% é um valor aceitável para que possamos gerar o modelo preditivo. \n",
    "\n",
    "Provavelmente há espaço para melhorias adicionais visto que temos que ter o cuidado sobre dois termos importantes no *Machine Learning model* que é:\n",
    "* Overfitting: captura de padrões espúrios que não se repetirão no futuro, levando a previsões menos precisas;\n",
    "\n",
    "* Underfitting: falha em capturar padrões relevantes, novamente levando a previsões menos precisas;\n",
    "\n",
    "No mais, espero que este projeto sirva de estudos e base para análises e construções futuras.\n",
    "\n"
   ]
  },
  {
   "cell_type": "code",
   "execution_count": null,
   "id": "33ea8798",
   "metadata": {},
   "outputs": [],
   "source": []
  }
 ],
 "metadata": {
  "kernelspec": {
   "display_name": "Python 3 (ipykernel)",
   "language": "python",
   "name": "python3"
  },
  "language_info": {
   "codemirror_mode": {
    "name": "ipython",
    "version": 3
   },
   "file_extension": ".py",
   "mimetype": "text/x-python",
   "name": "python",
   "nbconvert_exporter": "python",
   "pygments_lexer": "ipython3",
   "version": "3.9.7"
  }
 },
 "nbformat": 4,
 "nbformat_minor": 5
}
