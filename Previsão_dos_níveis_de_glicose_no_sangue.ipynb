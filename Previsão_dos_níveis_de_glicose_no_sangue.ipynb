{
  "nbformat": 4,
  "nbformat_minor": 0,
  "metadata": {
    "colab": {
      "provenance": [],
      "collapsed_sections": [],
      "authorship_tag": "ABX9TyMi1HUFnOJuQgrObu7XFAAf",
      "include_colab_link": true
    },
    "kernelspec": {
      "name": "python3",
      "display_name": "Python 3"
    },
    "language_info": {
      "name": "python"
    }
  },
  "cells": [
    {
      "cell_type": "markdown",
      "metadata": {
        "id": "view-in-github",
        "colab_type": "text"
      },
      "source": [
        "<a href=\"https://colab.research.google.com/github/lucas-allves/projects_public/blob/master/Previs%C3%A3o_dos_n%C3%ADveis_de_glicose_no_sangue.ipynb\" target=\"_parent\"><img src=\"https://colab.research.google.com/assets/colab-badge.svg\" alt=\"Open In Colab\"/></a>"
      ]
    },
    {
      "cell_type": "markdown",
      "source": [
        "# **Previsão dos níveis de glicose no sangue - Estudo sobre Machine Learning**\n",
        "\n",
        "Este projeto tem como objetivo aplicar uma técnica de Machine Learning, a REGRESSÃO, um tipo de aprendizado supervisionado. A variável alvo normalmente em valores contínuos.\n",
        "\n",
        "Queremos ajustar uma linha aos dados e, em duas dimensões, isso assume a forma de `y =ax + b`. O uso de um única *features* é conhecido como regressão linear simples, onde y é o alvo, x é o recurso e a e b são os parâmetros do modelo que queremos aprender. a e b também são chamados de coeficientes do modelo, ou inclinação e intercepto, respectivamente.\n",
        "\n",
        "Quando temos duas *features*, x1 e x2, e um alvo, y, uma linha assume a forma `y = a1x1 + a2x2 + b`. Então, para ajustar um modelo de regressão linear, especificamos três variáveis, a1, a2, e o intercepto, b. Ao adicionar mais recursos, é conhecido como regressão linear múltipla."
      ],
      "metadata": {
        "id": "2qYLamzZXb6C"
      }
    },
    {
      "cell_type": "markdown",
      "source": [
        "### Visualização do conjunto de dados como um DataFrame\n",
        "\n",
        "Para conceituar problemas de regressão, vamos usar um conjunto de dados contendo dados de saúde da mulher para prever os níveis de glicose no sangue. \n",
        "\n",
        "Carregamos o conjunto de dados como um DataFrame pandas e imprimimos as primeiras cinco linhas utilizando `head()` e para obter as principais informações utilizaremos `info()`. Ele contém recursos como:\n",
        "- `pregnancies`: número de gestações; \n",
        "- `triceps`: medidas de dobra cutânea tricipital; \n",
        "- `insulin`: níveis de insulina; \n",
        "- `bmi`: índice de massa corporal (IMC); \n",
        "- `age`: idade em anos; \n",
        "- `diabetes`: status de diabetes( 1: indicando diagnóstico e 0: representando a ausência de diagnóstico)."
      ],
      "metadata": {
        "id": "sQoom_qxVHsL"
      }
    },
    {
      "cell_type": "code",
      "source": [
        "import pandas as pd\n",
        "import numpy as np\n",
        "\n",
        "diabetes_df = pd.read_csv(\"diabetes_clean.csv\")\n",
        "diabetes_df.head()"
      ],
      "metadata": {
        "colab": {
          "base_uri": "https://localhost:8080/",
          "height": 206
        },
        "id": "RRrjcx5sWA3f",
        "outputId": "de693a88-93cb-4495-b79d-4d2ba58be80b"
      },
      "execution_count": 2,
      "outputs": [
        {
          "output_type": "execute_result",
          "data": {
            "text/plain": [
              "   pregnancies  glucose  diastolic  triceps  insulin   bmi    dpf  age  \\\n",
              "0            6      148         72       35        0  33.6  0.627   50   \n",
              "1            1       85         66       29        0  26.6  0.351   31   \n",
              "2            8      183         64        0        0  23.3  0.672   32   \n",
              "3            1       89         66       23       94  28.1  0.167   21   \n",
              "4            0      137         40       35      168  43.1  2.288   33   \n",
              "\n",
              "   diabetes  \n",
              "0         1  \n",
              "1         0  \n",
              "2         1  \n",
              "3         0  \n",
              "4         1  "
            ],
            "text/html": [
              "\n",
              "  <div id=\"df-fca5fcba-f9a5-4997-bccf-d98254e06335\">\n",
              "    <div class=\"colab-df-container\">\n",
              "      <div>\n",
              "<style scoped>\n",
              "    .dataframe tbody tr th:only-of-type {\n",
              "        vertical-align: middle;\n",
              "    }\n",
              "\n",
              "    .dataframe tbody tr th {\n",
              "        vertical-align: top;\n",
              "    }\n",
              "\n",
              "    .dataframe thead th {\n",
              "        text-align: right;\n",
              "    }\n",
              "</style>\n",
              "<table border=\"1\" class=\"dataframe\">\n",
              "  <thead>\n",
              "    <tr style=\"text-align: right;\">\n",
              "      <th></th>\n",
              "      <th>pregnancies</th>\n",
              "      <th>glucose</th>\n",
              "      <th>diastolic</th>\n",
              "      <th>triceps</th>\n",
              "      <th>insulin</th>\n",
              "      <th>bmi</th>\n",
              "      <th>dpf</th>\n",
              "      <th>age</th>\n",
              "      <th>diabetes</th>\n",
              "    </tr>\n",
              "  </thead>\n",
              "  <tbody>\n",
              "    <tr>\n",
              "      <th>0</th>\n",
              "      <td>6</td>\n",
              "      <td>148</td>\n",
              "      <td>72</td>\n",
              "      <td>35</td>\n",
              "      <td>0</td>\n",
              "      <td>33.6</td>\n",
              "      <td>0.627</td>\n",
              "      <td>50</td>\n",
              "      <td>1</td>\n",
              "    </tr>\n",
              "    <tr>\n",
              "      <th>1</th>\n",
              "      <td>1</td>\n",
              "      <td>85</td>\n",
              "      <td>66</td>\n",
              "      <td>29</td>\n",
              "      <td>0</td>\n",
              "      <td>26.6</td>\n",
              "      <td>0.351</td>\n",
              "      <td>31</td>\n",
              "      <td>0</td>\n",
              "    </tr>\n",
              "    <tr>\n",
              "      <th>2</th>\n",
              "      <td>8</td>\n",
              "      <td>183</td>\n",
              "      <td>64</td>\n",
              "      <td>0</td>\n",
              "      <td>0</td>\n",
              "      <td>23.3</td>\n",
              "      <td>0.672</td>\n",
              "      <td>32</td>\n",
              "      <td>1</td>\n",
              "    </tr>\n",
              "    <tr>\n",
              "      <th>3</th>\n",
              "      <td>1</td>\n",
              "      <td>89</td>\n",
              "      <td>66</td>\n",
              "      <td>23</td>\n",
              "      <td>94</td>\n",
              "      <td>28.1</td>\n",
              "      <td>0.167</td>\n",
              "      <td>21</td>\n",
              "      <td>0</td>\n",
              "    </tr>\n",
              "    <tr>\n",
              "      <th>4</th>\n",
              "      <td>0</td>\n",
              "      <td>137</td>\n",
              "      <td>40</td>\n",
              "      <td>35</td>\n",
              "      <td>168</td>\n",
              "      <td>43.1</td>\n",
              "      <td>2.288</td>\n",
              "      <td>33</td>\n",
              "      <td>1</td>\n",
              "    </tr>\n",
              "  </tbody>\n",
              "</table>\n",
              "</div>\n",
              "      <button class=\"colab-df-convert\" onclick=\"convertToInteractive('df-fca5fcba-f9a5-4997-bccf-d98254e06335')\"\n",
              "              title=\"Convert this dataframe to an interactive table.\"\n",
              "              style=\"display:none;\">\n",
              "        \n",
              "  <svg xmlns=\"http://www.w3.org/2000/svg\" height=\"24px\"viewBox=\"0 0 24 24\"\n",
              "       width=\"24px\">\n",
              "    <path d=\"M0 0h24v24H0V0z\" fill=\"none\"/>\n",
              "    <path d=\"M18.56 5.44l.94 2.06.94-2.06 2.06-.94-2.06-.94-.94-2.06-.94 2.06-2.06.94zm-11 1L8.5 8.5l.94-2.06 2.06-.94-2.06-.94L8.5 2.5l-.94 2.06-2.06.94zm10 10l.94 2.06.94-2.06 2.06-.94-2.06-.94-.94-2.06-.94 2.06-2.06.94z\"/><path d=\"M17.41 7.96l-1.37-1.37c-.4-.4-.92-.59-1.43-.59-.52 0-1.04.2-1.43.59L10.3 9.45l-7.72 7.72c-.78.78-.78 2.05 0 2.83L4 21.41c.39.39.9.59 1.41.59.51 0 1.02-.2 1.41-.59l7.78-7.78 2.81-2.81c.8-.78.8-2.07 0-2.86zM5.41 20L4 18.59l7.72-7.72 1.47 1.35L5.41 20z\"/>\n",
              "  </svg>\n",
              "      </button>\n",
              "      \n",
              "  <style>\n",
              "    .colab-df-container {\n",
              "      display:flex;\n",
              "      flex-wrap:wrap;\n",
              "      gap: 12px;\n",
              "    }\n",
              "\n",
              "    .colab-df-convert {\n",
              "      background-color: #E8F0FE;\n",
              "      border: none;\n",
              "      border-radius: 50%;\n",
              "      cursor: pointer;\n",
              "      display: none;\n",
              "      fill: #1967D2;\n",
              "      height: 32px;\n",
              "      padding: 0 0 0 0;\n",
              "      width: 32px;\n",
              "    }\n",
              "\n",
              "    .colab-df-convert:hover {\n",
              "      background-color: #E2EBFA;\n",
              "      box-shadow: 0px 1px 2px rgba(60, 64, 67, 0.3), 0px 1px 3px 1px rgba(60, 64, 67, 0.15);\n",
              "      fill: #174EA6;\n",
              "    }\n",
              "\n",
              "    [theme=dark] .colab-df-convert {\n",
              "      background-color: #3B4455;\n",
              "      fill: #D2E3FC;\n",
              "    }\n",
              "\n",
              "    [theme=dark] .colab-df-convert:hover {\n",
              "      background-color: #434B5C;\n",
              "      box-shadow: 0px 1px 3px 1px rgba(0, 0, 0, 0.15);\n",
              "      filter: drop-shadow(0px 1px 2px rgba(0, 0, 0, 0.3));\n",
              "      fill: #FFFFFF;\n",
              "    }\n",
              "  </style>\n",
              "\n",
              "      <script>\n",
              "        const buttonEl =\n",
              "          document.querySelector('#df-fca5fcba-f9a5-4997-bccf-d98254e06335 button.colab-df-convert');\n",
              "        buttonEl.style.display =\n",
              "          google.colab.kernel.accessAllowed ? 'block' : 'none';\n",
              "\n",
              "        async function convertToInteractive(key) {\n",
              "          const element = document.querySelector('#df-fca5fcba-f9a5-4997-bccf-d98254e06335');\n",
              "          const dataTable =\n",
              "            await google.colab.kernel.invokeFunction('convertToInteractive',\n",
              "                                                     [key], {});\n",
              "          if (!dataTable) return;\n",
              "\n",
              "          const docLinkHtml = 'Like what you see? Visit the ' +\n",
              "            '<a target=\"_blank\" href=https://colab.research.google.com/notebooks/data_table.ipynb>data table notebook</a>'\n",
              "            + ' to learn more about interactive tables.';\n",
              "          element.innerHTML = '';\n",
              "          dataTable['output_type'] = 'display_data';\n",
              "          await google.colab.output.renderOutput(dataTable, element);\n",
              "          const docLink = document.createElement('div');\n",
              "          docLink.innerHTML = docLinkHtml;\n",
              "          element.appendChild(docLink);\n",
              "        }\n",
              "      </script>\n",
              "    </div>\n",
              "  </div>\n",
              "  "
            ]
          },
          "metadata": {},
          "execution_count": 2
        }
      ]
    },
    {
      "cell_type": "code",
      "execution_count": 3,
      "metadata": {
        "colab": {
          "base_uri": "https://localhost:8080/"
        },
        "id": "prwfINFlU4C7",
        "outputId": "9756befc-3785-4966-a003-a0acd18418d8"
      },
      "outputs": [
        {
          "output_type": "stream",
          "name": "stdout",
          "text": [
            "<class 'pandas.core.frame.DataFrame'>\n",
            "RangeIndex: 768 entries, 0 to 767\n",
            "Data columns (total 9 columns):\n",
            " #   Column       Non-Null Count  Dtype  \n",
            "---  ------       --------------  -----  \n",
            " 0   pregnancies  768 non-null    int64  \n",
            " 1   glucose      768 non-null    int64  \n",
            " 2   diastolic    768 non-null    int64  \n",
            " 3   triceps      768 non-null    int64  \n",
            " 4   insulin      768 non-null    int64  \n",
            " 5   bmi          768 non-null    float64\n",
            " 6   dpf          768 non-null    float64\n",
            " 7   age          768 non-null    int64  \n",
            " 8   diabetes     768 non-null    int64  \n",
            "dtypes: float64(2), int64(7)\n",
            "memory usage: 54.1 KB\n"
          ]
        }
      ],
      "source": [
        "diabetes_df.info()"
      ]
    },
    {
      "cell_type": "markdown",
      "source": [],
      "metadata": {
        "id": "MTNJk14EYMri"
      }
    },
    {
      "cell_type": "markdown",
      "source": [
        "Ao olhar para os dados, vimos que não apresena valores faltantes (NaN) importante para a aplicação do algoritmo, além do tipo de cada *features* encontra-se de maneira apropriada."
      ],
      "metadata": {
        "id": "tKrZzrCSYMwc"
      }
    },
    {
      "cell_type": "markdown",
      "source": [
        "### Criando arrays de recursos e alvos\n",
        "\n",
        "`Scikit-learn` requer recursos e valores de destino em variáveis ​​distintas, `X` e `y`. \n",
        "\n",
        "Para usar todos os recursos em nosso conjunto de dados, descartamos nosso alvo, os níveis de glicose no sangue e armazenamos o atributo de valores como X. \n",
        "\n",
        "Para y, tomamos o atributo de valores da coluna de destino.\n",
        "\n",
        "*Obs.: Verificando a forma de y e X, vemos que ambos são arrays unidimensionais. Isso é bom para y, mas nossos recursos devem ser formatados como um array bidimensional para serem aceitos pelo scikit-learn.*"
      ],
      "metadata": {
        "id": "x3-8HEKOXxSb"
      }
    },
    {
      "cell_type": "code",
      "source": [
        "# Cria X a partir dos valores da coluna\n",
        "X = diabetes_df.drop('glucose', axis = 1).values\n",
        "\n",
        "X_bmi = X[:, 6]\n",
        "\n",
        "# Cria y a partir dos valores da coluna de glicose\n",
        "y = diabetes_df['glucose'].values\n",
        "\n",
        "# Remodelar X\n",
        "X_bmi = X_bmi.reshape(-1, 1)\n",
        "\n",
        "# Verificando a forma dos recursos e destinos\n",
        "print(X_bmi.shape, y.shape)\n"
      ],
      "metadata": {
        "colab": {
          "base_uri": "https://localhost:8080/"
        },
        "id": "P5NOGUexsBbM",
        "outputId": "5ec81b63-a19d-4fdc-d07c-7b44e184ce18"
      },
      "execution_count": 27,
      "outputs": [
        {
          "output_type": "stream",
          "name": "stdout",
          "text": [
            "(768, 1) (768,)\n"
          ]
        }
      ]
    },
    {
      "cell_type": "markdown",
      "source": [
        "### Construindo um modelo de regressão linear\n",
        "\n",
        "Agora que você criou seus arrays de recursos e alvos, você treinará um modelo de regressão linear em todos os valores de recursos e alvos.\n",
        "\n",
        "Como o objetivo é avaliar a relação entre o recurso e os valores de destino, não há necessidade de dividir os dados em conjuntos de treinamento e teste."
      ],
      "metadata": {
        "id": "Kf2MqQhf0esW"
      }
    },
    {
      "cell_type": "code",
      "source": [
        "# Import LinearRegression\n",
        "from sklearn.linear_model import LinearRegression\n",
        "\n",
        "# Criando o modelo\n",
        "reg = LinearRegression()\n",
        "\n",
        "# Treinando o modelo com os dados\n",
        "reg.fit(X_bmi, y)\n",
        "\n",
        "# Fazendo as previsões\n",
        "predictions = reg.predict(X_bmi)\n",
        "\n",
        "print(predictions[:5])"
      ],
      "metadata": {
        "colab": {
          "base_uri": "https://localhost:8080/"
        },
        "id": "Zim_qkqO0joJ",
        "outputId": "f27ec63e-bce7-4fad-8091-dc5181bb393a"
      },
      "execution_count": 28,
      "outputs": [
        {
          "output_type": "stream",
          "name": "stdout",
          "text": [
            "[132.90106428 119.28912038 120.00553848 112.12493938 120.72195658]\n"
          ]
        }
      ]
    },
    {
      "cell_type": "markdown",
      "source": [
        "### Plotando glicose vs. índice de massa corporal (bmi)\n",
        "\n",
        "Agora que você construiu seu modelo de regressão linear e o treinou usando as observações disponíveis, você pode visualizar o quão bem o modelo se ajusta aos dados.\n",
        "\n",
        "Podemos ver que, geralmente, à medida que o índice de massa corporal aumenta, os níveis de glicose no sangue também tendem a aumentar.\n",
        "\n",
        "Obs.: uma sugestão seria aplicar para cada *features* e analisar o comportamento do nível de glicose em relação as mesmas."
      ],
      "metadata": {
        "id": "CIsxuSCn6wbC"
      }
    },
    {
      "cell_type": "code",
      "source": [
        "# Import matplotlib.pyplot\n",
        "import matplotlib.pyplot as plt\n",
        "\n",
        "# Criando scatter plot\n",
        "plt.scatter(X_bmi, y, color=\"blue\")\n",
        "\n",
        "# Criando line plot\n",
        "plt.plot(X_bmi, predictions, color=\"red\")\n",
        "plt.ylabel(\"Blood Glucose (mg/dl)\")\n",
        "plt.xlabel(\"Body Mass Index\")\n",
        "\n",
        "# Exibindo o gráfico\n",
        "plt.show()"
      ],
      "metadata": {
        "colab": {
          "base_uri": "https://localhost:8080/",
          "height": 279
        },
        "id": "Pe_Q8E8S60EY",
        "outputId": "98a95893-99e4-46a0-8188-22ae9a42dd59"
      },
      "execution_count": 29,
      "outputs": [
        {
          "output_type": "display_data",
          "data": {
            "text/plain": [
              "<Figure size 432x288 with 1 Axes>"
            ],
            "image/png": "[encoded data removed]"
          },
          "metadata": {
            "needs_background": "light"
          }
        }
      ]
    },
    {
      "cell_type": "markdown",
      "source": [
        "A linha vermelha representa o ajuste do modelo de regressão linear dos valores de glicose no sangue em relação ao índice de massa corporal, que parece ter uma correlação positiva fraca a moderada.\n",
        "\n",
        "Obs.: pode-se construir outros gráficos `scatter plot` e visualmente analisar as relações entre os recursos com a variável dependente (alvo). Até mesmo criar um `heatmap` para visualiza a força de correlação."
      ],
      "metadata": {
        "id": "eCCPrXSE8XuR"
      }
    },
    {
      "cell_type": "markdown",
      "source": [
        "### Regressão linear usando todos os recursos\n",
        "\n",
        "Depois de avaliar por regressão linear como as variáveis se relaciona, criaremos um modelo de regressão linear múltipla usando todos os recursos do conjunto de dados `diabetes_df`.\n",
        "\n",
        "Vamos realizar uma regressão linear para prever os níveis de glicose no sangue usando todos os recursos do conjunto de dados de diabetes.\n",
        "\n",
        "Em seguida, dividimos os dados em conjuntos de treinamento e teste, instanciamos o modelo, ajustamos no conjunto de treinamento e prevemos no conjunto de teste."
      ],
      "metadata": {
        "id": "8sV94kUXOgdK"
      }
    },
    {
      "cell_type": "code",
      "source": [
        "from sklearn.model_selection import train_test_split\n",
        "\n",
        "# Criando as matrizes X e y\n",
        "X = diabetes_df.drop('glucose', axis = 1).values\n",
        "y = diabetes_df['glucose'].values\n",
        "\n",
        "# Separando os dados em teste e treino\n",
        "\n",
        "X_train, X_test, y_train, y_test = train_test_split(X, y, test_size=0.3, random_state=42)\n",
        "\n",
        "# Instanciando o modelo\n",
        "reg = LinearRegression()\n",
        "\n",
        "# Treinando o modelo aos dados\n",
        "reg.fit(X_train, y_train)\n",
        "\n",
        "# Fazendo as previsões\n",
        "y_pred = reg.predict(X_test)\n",
        "print(\"Previsões: {} \".format(y_pred[:4]))\n",
        "print(\"Valores atuais: {}\".format(y_test[:4]))"
      ],
      "metadata": {
        "colab": {
          "base_uri": "https://localhost:8080/"
        },
        "id": "v5QiHlirOylh",
        "outputId": "3e105f29-e417-4faa-9463-3525e0ac1d4a"
      },
      "execution_count": 40,
      "outputs": [
        {
          "output_type": "stream",
          "name": "stdout",
          "text": [
            "Previsões: [119.91303675  95.70325357 104.63962314 114.05040231] \n",
            "Valores atuais: [ 98 112 108 107]\n"
          ]
        }
      ]
    },
    {
      "cell_type": "markdown",
      "source": [
        "### Desempenho de regressão\n",
        "\n",
        "Agora que você ajustou um modelo, reg, usando todos os recursos do sales_df e fez previsões de valores de vendas, pode avaliar o desempenho usando algumas métricas de regressão comuns."
      ],
      "metadata": {
        "id": "-baw7dZcUFVr"
      }
    },
    {
      "cell_type": "code",
      "source": [
        "# Importando mean_squared_error\n",
        "from sklearn.metrics import mean_squared_error\n",
        "\n",
        "# Calculando R-squared\n",
        "r_squared = reg.score(X_test, y_test)\n",
        "\n",
        "# Calculando RMSE\n",
        "rmse = mean_squared_error(y_test, y_pred, squared=False)\n",
        "\n",
        "# Imprimindo as métricas\n",
        "print(\"R²: {}\".format(r_squared))\n",
        "print(\"RMSE: {}\".format(rmse))"
      ],
      "metadata": {
        "colab": {
          "base_uri": "https://localhost:8080/"
        },
        "id": "LhntojioWTYZ",
        "outputId": "406904dc-cd5a-4c95-bd77-ee819c113de5"
      },
      "execution_count": 36,
      "outputs": [
        {
          "output_type": "stream",
          "name": "stdout",
          "text": [
            "R²: 0.28280468810375115\n",
            "RMSE: 26.341459582232265\n"
          ]
        }
      ]
    },
    {
      "cell_type": "markdown",
      "source": [
        "### Validação cruzada para R-quadrado\n",
        "\n",
        "A validação cruzada é uma abordagem vital para avaliar um modelo. Ele maximiza a quantidade de dados disponíveis para o modelo, pois o modelo não é apenas treinado, mas também testado em todos os dados disponíveis.\n",
        "Iremos construir um modelo de regressão linear e, em seguida, usaremos a validação cruzada de 6 vezes para avaliar sua precisão na previsão da glicose em relação aos recursos."
      ],
      "metadata": {
        "id": "s1sT4gf_Pbnx"
      }
    },
    {
      "cell_type": "code",
      "source": [
        "# Import the necessary modules\n",
        "from sklearn.model_selection import cross_val_score, KFold\n",
        "\n",
        "# Create a KFold object\n",
        "kf = KFold(n_splits=6, shuffle=True, random_state=5)\n",
        "\n",
        "reg = LinearRegression()\n",
        "\n",
        "# Compute 6-fold cross-validation scores\n",
        "cv_scores = cross_val_score(reg, X, y, cv=kf)\n",
        "\n",
        "# Print scores\n",
        "print(cv_scores)\n",
        "print(np.mean(cv_scores), np.std(cv_scores))\n",
        "print(np.quantile(cv_scores, [0.025, 0.975]))"
      ],
      "metadata": {
        "colab": {
          "base_uri": "https://localhost:8080/"
        },
        "id": "-kjL56b3adBQ",
        "outputId": "16a3622d-7464-49cb-9fa0-74559587b0c4"
      },
      "execution_count": 9,
      "outputs": [
        {
          "output_type": "stream",
          "name": "stdout",
          "text": [
            "[0.37915966 0.29257178 0.38953015 0.22314647 0.3677666  0.31175482]\n",
            "0.3273215793495466 0.05844544156906045\n",
            "[0.23182464 0.38823384]\n"
          ]
        }
      ]
    },
    {
      "cell_type": "markdown",
      "source": [
        "### Regressão regularizada\n",
        "\n",
        "#### RIDGE\n",
        "\n",
        "Agora vamos explorar a regularização em regressão, uma técnica usada para evitar o *overfitting*.\n",
        "\n",
        "O primeiro tipo de regressão regularizada que veremos é chamado `ridge`. Ao usar `ridge`, precisamos escolher o valor alfa para ajustar e prever.\n",
        "\n",
        "Para realizar a regressão de `ridge` no scikit-learn, importamos `ridge` de `sklearn.linear_model`. \n",
        "\n",
        "Para destacar o impacto de diferentes valores de alfa, criamos uma lista vazia para nossas pontuações e, em seguida, percorremos uma lista de diferentes valores de alfa."
      ],
      "metadata": {
        "id": "lbTg38N2mbWh"
      }
    },
    {
      "cell_type": "code",
      "source": [
        "# Import Ridge\n",
        "\n",
        "from sklearn.linear_model import Ridge\n",
        "\n",
        "alphas = [0.1, 1.0, 10.0, 100.0, 1000.0, 10000.0]\n",
        "ridge_scores = []\n",
        "for alpha in alphas:\n",
        "  \n",
        "  # Create a Ridge regression model\n",
        "  ridge = Ridge(alpha=alpha)\n",
        "  \n",
        "  # Fit the data\n",
        "  ridge.fit(X_train, y_train)\n",
        "  \n",
        "  # Obtain R-squared\n",
        "  score = ridge.score(X_test, y_test)\n",
        "  ridge_scores.append(score)\n",
        "print(ridge_scores)"
      ],
      "metadata": {
        "colab": {
          "base_uri": "https://localhost:8080/"
        },
        "id": "8zz7UH2XSYW0",
        "outputId": "efdebe33-9f09-4407-dfa9-26cea42185cc"
      },
      "execution_count": 14,
      "outputs": [
        {
          "output_type": "stream",
          "name": "stdout",
          "text": [
            "[0.2828466623222221, 0.28320633574804777, 0.2853000732200006, 0.26423984812668133, 0.19292424694100963, 0.1768272855049816]\n"
          ]
        }
      ]
    },
    {
      "cell_type": "markdown",
      "source": [
        "De acordo com a análise de regulação, vemos que o desempenho piora à medida que o alfa aumenta."
      ],
      "metadata": {
        "id": "2f84Z4T51A4q"
      }
    },
    {
      "cell_type": "markdown",
      "source": [
        "### Regressão regularizada\n",
        "\n",
        "#### LASSO\n",
        "\n",
        "Existe outro tipo de regressão regularizada chamada `lasso`, onde nossa função de perda é a função de perda OLS mais o valor absoluto de cada coeficiente multiplicado por alguma constante, alfa. A regressão Lasso pode realmente ser usada para avaliar a importância do recurso.\n",
        "\n",
        "Para usar Lasso, importamos de `sklearn.linear_model`. O método real para realizar a regressão de laço no scikit-learn espelha a regressão de `Ridge`."
      ],
      "metadata": {
        "id": "5Wly7afF_n9m"
      }
    },
    {
      "cell_type": "code",
      "source": [
        "# Import Lasso\n",
        "from sklearn.linear_model import Lasso\n",
        "\n",
        "# Instantiate a lasso regression model\n",
        "lasso = Lasso(alpha=0.3)\n",
        "\n",
        "# Fit the model to the data\n",
        "X = diabetes_df.drop(\"glucose\", axis=1).values\n",
        "y = diabetes_df[\"glucose\"].values\n",
        "names = diabetes_df.drop('glucose', axis=1).columns\n",
        "\n",
        "lasso.fit(X, y)\n",
        "\n",
        "# Compute and print the coefficients\n",
        "\n",
        "lasso_coef = lasso.coef_\n",
        "print(lasso_coef)\n",
        "plt.bar(names, lasso_coef)\n",
        "plt.xticks(rotation=45)\n",
        "plt.show()"
      ],
      "metadata": {
        "colab": {
          "base_uri": "https://localhost:8080/",
          "height": 341
        },
        "id": "Z0z8nsdrAKXa",
        "outputId": "007deb44-cc48-4c34-8cfc-4a43e0653479"
      },
      "execution_count": 26,
      "outputs": [
        {
          "output_type": "stream",
          "name": "stdout",
          "text": [
            "[-0.40402074  0.11406488 -0.28396674  0.09134391  0.33226837  0.\n",
            "  0.48960536 23.63264431]\n"
          ]
        },
        {
          "output_type": "display_data",
          "data": {
            "text/plain": [
              "<Figure size 432x288 with 1 Axes>"
            ],
            "image/png": "[encoded data removed]"
          },
          "metadata": {
            "needs_background": "light"
          }
        }
      ]
    },
    {
      "cell_type": "markdown",
      "source": [
        "Podemos ver que o preditor mais importante para nossa variável-alvo, os níveis de glicose no sangue, é o valor binário para saber se um indivíduo tem diabetes ou não! Isso não é surpreendente, mas é uma ótima verificação de sanidade. Esse tipo de seleção de recursos é muito importante porque nos permite comunicar resultados para públicos não técnicos. Também é útil para identificar quais fatores são preditores importantes para vários fenômenos físicos."
      ],
      "metadata": {
        "id": "D81JtF1tJWne"
      }
    }
  ]
}